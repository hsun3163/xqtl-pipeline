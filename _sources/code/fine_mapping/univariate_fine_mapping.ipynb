{
 "cells": [
  {
   "cell_type": "markdown",
   "id": "veterinary-poison",
   "metadata": {
    "kernel": "SoS",
    "tags": []
   },
   "source": [
    "# Univariate fine-mapping workflows"
   ]
  },
  {
   "cell_type": "markdown",
   "id": "executive-camera",
   "metadata": {
    "kernel": "Bash",
    "tags": []
   },
   "source": [
    "1. Using `susieR::susie()`\n",
    "2. Using `susiF.alpha::susif`"
   ]
  },
  {
   "cell_type": "code",
   "execution_count": null,
   "id": "48d144e4-6533-4ac3-a342-d20aa3ec79f2",
   "metadata": {
    "kernel": "SoS"
   },
   "outputs": [],
   "source": [
    "%preview ../images/Protocol_level_scheme - Fine-mapping.jpeg"
   ]
  },
  {
   "cell_type": "markdown",
   "id": "03c5178c-5b91-4e64-a1c4-e9cb8b4a38dd",
   "metadata": {
    "kernel": "SoS"
   },
   "source": [
    "## Univariate SuSiE"
   ]
  },
  {
   "cell_type": "code",
   "execution_count": null,
   "id": "53caf474-8d43-4b3b-ba23-46eb584dfd4d",
   "metadata": {
    "kernel": "SoS"
   },
   "outputs": [],
   "source": [
    "nohup sos run /home/hs3163/GIT/xqtl-pipeline/pipeline/fine_mapping/SuSiE/SuSiE.ipynb uni_susie  \\\n",
    "        --phenotype_list /mnt/mfs/statgen/xqtl_workflow_testing/demo/phenotype_reformat/demo.processed_phenotype.per_gene.recipe  \\\n",
    "        --genotype_list /mnt/mfs/statgen/xqtl_workflow_testing/demo/genotype_reformmating/demo_per_gene_plink/plink_per_gene_list  \\\n",
    "        --region_list  /home/hs3163/GIT/ADSPFG-xQTL/MWE/mwe_region_long \\\n",
    "        --container /mnt/mfs/statgen/containers/twas_latest.sif \\\n",
    "        --wd ./ \\\n",
    "        --name \"demo\" &  "
   ]
  },
  {
   "cell_type": "markdown",
   "id": "c08b454e-a2b2-4624-9790-b8e26a6d5e15",
   "metadata": {
    "kernel": "SoS"
   },
   "source": [
    "### SuSiE results post processing\n"
   ]
  },
  {
   "cell_type": "code",
   "execution_count": null,
   "id": "006ac9ee-fc22-4c9a-8bd3-9d1028a067f9",
   "metadata": {
    "kernel": "SoS"
   },
   "outputs": [],
   "source": [
    "sos run pipeline/SuSiE_post_processing.ipynb susie_to_tsv \\\n",
    "    --cwd output/ADGWAS_finemapping_extracted/Bellenguez/ --rds_path `ls GWAS_Finemapping_Results/Bellenguez/ADGWAS2022*rds ` \\\n",
    "    --region-list ~/1300_hg38_EUR_LD_blocks_orig.tsv \\\n",
    "    --container containers/stephenslab.sif "
   ]
  },
  {
   "cell_type": "markdown",
   "id": "38ce5e3d-d602-439a-aaca-f3e982944eb9",
   "metadata": {
    "kernel": "SoS"
   },
   "source": [
    "## Univariate SuSiF"
   ]
  },
  {
   "cell_type": "code",
   "execution_count": null,
   "id": "4d844ead-3d13-4793-8c0c-2dd6a2b30fe7",
   "metadata": {
    "kernel": "SoS"
   },
   "outputs": [],
   "source": [
    "sos run pipeline/SuSiE.ipynb uni_fsusie \\\n",
    "    --genoFile /mnt/vast/hpc/csg/molecular_phenotype_calling/eqtl/output/dlpfc_tad_region_list_plink_files/ROSMAP_NIA_WGS.leftnorm.filtered.filtered.plink_files_list.txt  \\\n",
    "    --cwd output/f_susie_tad_haQTL_pos_check_pure_2/ --name haQTL \\\n",
    "    --region-list dlpfc_tad_list \\\n",
    "    --phenoFile phenotype_list \\\n",
    "    --covFile covar_list --prior mixture_normal_per_scale  --container containers/stephenslab.sif "
   ]
  },
  {
   "cell_type": "markdown",
   "id": "58dfe4e3-fe57-4309-9d3b-82eb4bfba136",
   "metadata": {
    "kernel": "SoS"
   },
   "source": [
    "### SuSiE results post processing\n"
   ]
  },
  {
   "cell_type": "code",
   "execution_count": null,
   "id": "e488fd3a-6cad-4238-af24-933af74c2fab",
   "metadata": {
    "kernel": "SoS"
   },
   "outputs": [],
   "source": [
    "sos run pipeline/SuSiE_post_processing.ipynb fsusie_to_tsv \\\n",
    "    --cwd output/f_susie_tad_haQTL_pos_check_pure_2 --rds_path `ls output/f_susie_tad_haQTL_pos_check_pure_2/cache/*rds ` \\\n",
    "    --region-list ../eqtl/dlpfc_tad_list \\\n",
    "    --container containers/stephenslab.sif \n",
    "\n",
    "sos run pipeline/SuSiE_post_processing.ipynb fsusie_to_tsv \\\n",
    "    --cwd output/f_susie_tad_haQTL_pos_check_pure_3 --rds_path `ls output/f_susie_tad_haQTL_pos_check_pure_3/cache/*rds ` \\\n",
    "    --region-list ../eqtl/dlpfc_tad_list \\\n",
    "    --container containers/stephenslab.sif\n",
    "\n",
    "\n",
    "sos run pipeline/SuSiE_post_processing.ha fsusie_to_tsv \\\n",
    "    --cwd output/f_susie_tad_meQTL_pos_check_pure/ --rds_path `ls output/f_susie_tad_meQTL_pos_check_pure/cache/*rds ` \\\n",
    "    --region-list ../eqtl/dlpfc_tad_list \\\n",
    "    --container containers/stephenslab.sif\n",
    "\n",
    "sos run pipeline/SuSiE_post_processing.ipynb fsusie_to_tsv \\\n",
    "    --cwd output/pQTL/ --rds_path `ls /mnt/vast/hpc/csg/molecular_phenotype_calling/pqtl_finemapping/output/susie_per_ID_tad/cache/*rds` \\\n",
    "    --region-list ../eqtl/dlpfc_tad_list \\\n",
    "    --container containers/stephenslab.sif\n",
    "\n",
    "\n",
    "nohup sos run pipeline/SuSiE_post_processing.ipynb fsusie_to_tsv     --cwd output/f_susie_tad_haQTL_pos_limited_2/result --rds_path `ls output/f_susie_tad_haQT\n",
    "L_pos_limited_2/cache/*rds`     --region-list ../eqtl/dlpfc_tad_list     --container containers/stephenslab.sif &\n",
    "\n",
    "sos run pipeline/SuSiE_post_processing.ipynb fsusie_to_tsv \\\n",
    "    --cwd output/f_susie_tad_haQTL_pos_resume/ --rds_path `ls output/f_susie_tad_haQTL_pos_resume/cache/*rds` \\\n",
    "    --region-list ../eqtl/dlpfc_tad_list \\\n",
    "    --container containers/stephenslab.sif\n",
    "\n",
    "sos run pipeline/SuSiE_post_processing.ipynb fsusie_to_tsv \\\n",
    "    --cwd output/f_susie_tad_meQTL_pos_resume/ --rds_path `ls output/f_susie_tad_meQTL_pos_resume/cache/*rds` \\\n",
    "    --region-list ../eqtl/dlpfc_tad_list \\\n",
    "    --container containers/stephenslab.sif\n",
    "\n",
    "\n",
    "sos run pipeline/SuSiE_post_processing.ipynb fsusie_to_tsv \\\n",
    "    --cwd output/f_susie_tad_haQTL_pos_resume/result --rds_path `ls output/f_susie_tad_haQTL_pos_resume/cache/*rds` \\\n",
    "    --region-list ../eqtl/dlpfc_tad_list \\\n",
    "    --container containers/stephenslab.sif &\n",
    "\n",
    "\n",
    "sos run pipeline/SuSiE_post_processing.ipynb fsusie_to_tsv \\\n",
    "    --cwd output/test --rds_path `ls output/f_susie_tad_haQTL_pos_check_pure_2/cache/*rds | head -1 ` \\\n",
    "    --region-list ../eqtl/dlpfc_tad_list \\\n",
    "    --container /home/hs3163/test_sif/stephenslab.sif\n"
   ]
  },
  {
   "cell_type": "markdown",
   "id": "4a69dbf2-ce2e-4ebb-bf5f-e7c009618657",
   "metadata": {
    "kernel": "SoS"
   },
   "source": [
    "## haQTL"
   ]
  },
  {
   "cell_type": "code",
   "execution_count": null,
   "id": "5930ac21-9f52-4dbe-bda8-63f15d3565d8",
   "metadata": {
    "kernel": "SoS"
   },
   "outputs": [],
   "source": [
    "sos run pipeline/SuSiE_post_processing.ipynb fsusie_to_tsv \\\n",
    "    --cwd output/f_susie_tad_haQTL_pos_check_pure_2/result --rds_path `ls output/f_susie_tad_haQTL_pos_check_pure_2/cache/*rds ` \\\n",
    "    --region-list ../eqtl/dlpfc_tad_list \\\n",
    "    --container containers/stephenslab.sif  &\n",
    "\n",
    "\n",
    "sos run pipeline/SuSiE_post_processing.ipynb fsusie_to_tsv \\\n",
    "    --cwd output/f_susie_tad_haQTL_resume/result --rds_path `ls output/f_susie_tad_haQTL_resume/cache/*rds` \\\n",
    "    --region-list ../eqtl/dlpfc_tad_list \\\n",
    "    --container containers/stephenslab.sif &\n",
    "\n",
    "\n",
    "nohup sos run pipeline/SuSiE_post_processing.ipynb fsusie_to_tsv   \\\n",
    "    --cwd output/f_susie_tad_haQTL_pos_limited_2/result \\\n",
    "    --rds_path `ls output/f_susie_tad_haQTL_pos_limited_2/cache/*rds`   \\\n",
    "    --region-list ../eqtl/dlpfc_tad_list     --container containers/stephenslab.sif &\n",
    "\n",
    "\n"
   ]
  },
  {
   "cell_type": "markdown",
   "id": "e50774fb-76fa-432f-b5eb-a66cd396123a",
   "metadata": {
    "kernel": "SoS"
   },
   "source": [
    "## mQTL"
   ]
  },
  {
   "cell_type": "code",
   "execution_count": null,
   "id": "14e3b031-a970-4826-928f-d63ecb42d0c8",
   "metadata": {
    "kernel": "SoS"
   },
   "outputs": [],
   "source": [
    "nohup sos run pipeline/SuSiE_post_processing.ipynb fsusie_to_tsv \\\n",
    "    --cwd output/f_susie_tad_meQTL_pos_2/result --rds_path `ls output/f_susie_tad_meQTL_pos_2/cache/*rds ` \\\n",
    "    --region-list ../eqtl/dlpfc_tad_list \\\n",
    "    --container containers/stephenslab.sif  &\n",
    "\n",
    "nohup sos run pipeline/SuSiE_post_processing.ipynb fsusie_to_tsv \\\n",
    "    --cwd output/f_susie_tad_meQTL_pos_resume/result --rds_path `ls output/f_susie_tad_meQTL_pos_resume/cache/*rds ` \\\n",
    "    --region-list ../eqtl/dlpfc_tad_list \\\n",
    "    --container containers/stephenslab.sif  &\n",
    "\n",
    "nohup sos run pipeline/SuSiE_post_processing.ipynb fsusie_to_tsv \\\n",
    "    --cwd output/f_susie_tad_meQTL_pos_limited_2/result --rds_path `ls output/f_susie_tad_meQTL_pos_limited_2/cache/*rds ` \\\n",
    "    --region-list ../eqtl/dlpfc_tad_list \\\n",
    "    --container containers/stephenslab.sif  &\n",
    "\n"
   ]
  },
  {
   "cell_type": "code",
   "execution_count": null,
   "id": "c95fc29e-f14e-4cc8-bdcc-9ebc01622718",
   "metadata": {
    "kernel": "SoS"
   },
   "outputs": [],
   "source": []
  },
  {
   "cell_type": "markdown",
   "id": "e1c05587-5de1-4be9-93a3-ae106ada37ec",
   "metadata": {
    "kernel": "SoS"
   },
   "source": [
    "## Plotting susie"
   ]
  },
  {
   "cell_type": "markdown",
   "id": "488ee24b-7d04-40be-b6ad-3dda31b1e50a",
   "metadata": {
    "kernel": "SoS"
   },
   "source": [
    "### PIP land scape plot"
   ]
  },
  {
   "cell_type": "code",
   "execution_count": null,
   "id": "a2c0dd2a-8858-40ea-bb55-6adfe2ac9a2d",
   "metadata": {
    "kernel": "SoS"
   },
   "outputs": [],
   "source": [
    "sos run pipeline/SuSiE_post_processing.ipynb susie_pip_landscape_plot \\\n",
    "    --cwd output/test/ --plot_list plot_recipe_668 --annot_tibble ~/Annotatr_builtin_annotation_tibble.tsv -s force --container containers/stephenslab.sif  &\n",
    "\n",
    "sos run pipeline/SuSiE_post_processing.ipynb susie_pip_landscape_plot \\\n",
    "    --cwd output/test/ --plot_list plot_recipe_ADGWAS_uni --annot_tibble ~/Annotatr_builtin_annotation_tibble.tsv -s force --container containers/stephenslab.sif  &\n",
    "\n",
    "sos run pipeline/SuSiE_post_processing.ipynb susie_pip_landscape_plot \\\n",
    "    --cwd output/1182/ --plot_list plot_recipe_1182 --annot_tibble ~/Annotatr_builtin_annotation_tibble.tsv -s force --container containers/stephenslab.sif  &"
   ]
  },
  {
   "cell_type": "code",
   "execution_count": null,
   "id": "1c3045a9-c64f-4ec3-b84c-c4a9ea8807f6",
   "metadata": {
    "kernel": "SoS"
   },
   "outputs": [],
   "source": [
    "sos run pipeline/SuSiE_post_processing.ipynb susie_pip_landscape_plot \\\n",
    "    --cwd output/test_3/ --plot_list plot_recipe --annot_tibble ~/Annotatr_builtin_annotation_tibble.tsv -s force --container containers/stephenslab.sif  &"
   ]
  },
  {
   "cell_type": "code",
   "execution_count": null,
   "id": "b7e4b7a8-98f0-433a-82bf-a62591a575f0",
   "metadata": {
    "kernel": "SoS"
   },
   "outputs": [],
   "source": [
    "sos run pipeline/SuSiE_post_processing.ipynb susie_pip_landscape_plot \\\n",
    "    --cwd output/5g/ --plot_list recipe_5gene --annot_tibble ~/Annotatr_builtin_annotation_tibble.tsv -s force --container containers/stephenslab.sif  &"
   ]
  },
  {
   "cell_type": "markdown",
   "id": "359ef7fe-9c65-43ca-90d9-c7983afe51c4",
   "metadata": {
    "kernel": "SoS"
   },
   "source": [
    "### UpSetR plot "
   ]
  },
  {
   "cell_type": "code",
   "execution_count": null,
   "id": "ee0273be-9ee3-476f-918b-7a66e94b9158",
   "metadata": {
    "kernel": "SoS"
   },
   "outputs": [],
   "source": [
    "sos run pipeline/SuSiE_post_processing.ipynb susie_upsetR_plot \\\n",
    "    --cwd output/updated_mQTL/ --plot_list UpsetR_recipe -s force --container containers/stephenslab.sif &\n",
    "sos run pipeline/SuSiE_post_processing.ipynb susie_upsetR_plot \\\n",
    "    --cwd output/updated_16/ --plot_list UpsetR_recipe_16 -s force --container containers/stephenslab.sif &"
   ]
  },
  {
   "cell_type": "code",
   "execution_count": null,
   "id": "511c6aea-1e35-4fb7-98c7-20bf38c7c053",
   "metadata": {
    "kernel": "SoS"
   },
   "outputs": [],
   "source": [
    "sos run pipeline/SuSiE_post_processing.ipynb susie_upsetR_cs_plot \\\n",
    "    --cwd output/updated_mQTL/ --plot_list UpsetR_recipe_1 -s force --trait_to_select 3 --container containers/stephenslab.sif &\n",
    "sos run pipeline/SuSiE_post_processing.ipynb susie_upsetR_cs_plot \\\n",
    "    --cwd output/updated_16/ --plot_list UpsetR_recipe_16  -s force --trait_to_select 3 --container containers/stephenslab.sif &"
   ]
  },
  {
   "cell_type": "markdown",
   "id": "69bc887f-8b25-4a9e-8c37-16d2ae69a4b0",
   "metadata": {
    "kernel": "SoS"
   },
   "source": [
    "## FSuSiE estimated effect plot"
   ]
  },
  {
   "cell_type": "code",
   "execution_count": null,
   "id": "fb7dbf25-5742-4b59-b3d4-e87eb8ed5464",
   "metadata": {
    "kernel": "SoS"
   },
   "outputs": [],
   "source": [
    "sos run pipeline/SuSiE_post_processing.ipynb fsusie_extract_effect \\\n",
    "    --cwd output/all_haQTL_effect/ --rds_path /mnt/vast/hpc/csg/molecular_phenotype_calling/QTL_fine_mapping/output/definitive_haQTL//*.rds \\\n",
    "    --container containers/stephenslab.sif\n",
    "\n",
    "sos run pipeline/SuSiE_post_processing.ipynb fsusie_extract_effect \\\n",
    "    --cwd output/all_meQTL_effect/ --rds_path /mnt/vast/hpc/csg/molecular_phenotype_calling/QTL_fine_mapping/output/definitive_mQTL/*rds \\\n",
    "    --container containers/stephenslab.sif -s build "
   ]
  },
  {
   "cell_type": "markdown",
   "id": "e26c0e86-214e-4fc3-97f0-a6d1a58f2010",
   "metadata": {
    "kernel": "SoS"
   },
   "source": [
    "## FSuSiE credible band"
   ]
  },
  {
   "cell_type": "code",
   "execution_count": null,
   "id": "7360a045-a66e-4a66-a9bf-a12e223681d7",
   "metadata": {
    "kernel": "SoS"
   },
   "outputs": [],
   "source": [
    "sos run pipeline/SuSiE_post_processing.ipynb fsusie_affected_region \\\n",
    "    --cwd output/definitive_haQTL/affected_region --rds_path /mnt/vast/hpc/csg/molecular_phenotype_calling/QTL_fine_mapping/output/definitive_haQTL/*.rds \\\n",
    "    --container containers/stephenslab.sif"
   ]
  },
  {
   "cell_type": "code",
   "execution_count": null,
   "id": "50526e8c-9ba0-467e-bc4c-9ffbc68f155b",
   "metadata": {
    "kernel": "SoS"
   },
   "outputs": [],
   "source": [
    "sos run pipeline/SuSiE_post_processing.ipynb fsusie_affected_region \\\n",
    "    --cwd output/definitive_mQTL/affected_region --rds_path /mnt/vast/hpc/csg/molecular_phenotype_calling/QTL_fine_mapping/output/definitive_mQTL/*.rds \\\n",
    "    --container containers/stephenslab.sif"
   ]
  },
  {
   "cell_type": "code",
   "execution_count": null,
   "id": "93aa7216-c5d8-4351-ad99-cf72129c2a51",
   "metadata": {
    "kernel": "SoS"
   },
   "outputs": [],
   "source": [
    "nohup sos run pipeline/SuSiE_post_processing.ipynb fsusie_affected_region    \\\n",
    "    --cwd output/definitive_mQTL/affected_region \\\n",
    "    --rds_path /mnt/vast/hpc/csg/molecular_phenotype_calling/QTL_fine_mapping/output/definitive_mQTL/*.rds    \\\n",
    "    --container containers/stephenslab.sif -J 300 -q csg2 -c csg2.yml  &"
   ]
  }
 ],
 "metadata": {
  "kernelspec": {
   "display_name": "SoS",
   "language": "sos",
   "name": "sos"
  },
  "language_info": {
   "codemirror_mode": "sos",
   "file_extension": ".sos",
   "mimetype": "text/x-sos",
   "name": "sos",
   "nbconvert_exporter": "sos_notebook.converter.SoS_Exporter",
   "pygments_lexer": "sos"
  },
  "sos": {
   "kernels": [
    [
     "Bash",
     "bash",
     "Bash",
     "#E6EEFF",
     ""
    ],
    [
     "Markdown",
     "markdown",
     "markdown",
     "",
     ""
    ],
    [
     "SoS",
     "sos",
     "",
     "",
     "sos"
    ]
   ],
   "version": "0.24.1"
  }
 },
 "nbformat": 4,
 "nbformat_minor": 5
}
