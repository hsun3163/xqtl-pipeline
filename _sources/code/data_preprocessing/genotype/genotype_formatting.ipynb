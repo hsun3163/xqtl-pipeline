{
 "cells": [
  {
   "cell_type": "markdown",
   "id": "female-liberty",
   "metadata": {
    "kernel": "SoS",
    "tags": []
   },
   "source": [
    "# Genotype data formatting\n",
    "\n",
    "This module implements a collection of workflows used to format genotype data."
   ]
  },
  {
   "cell_type": "markdown",
   "id": "quality-connecticut",
   "metadata": {
    "kernel": "SoS",
    "tags": []
   },
   "source": [
    "## Overview"
   ]
  },
  {
   "cell_type": "markdown",
   "id": "portuguese-blond",
   "metadata": {
    "kernel": "SoS",
    "tags": []
   },
   "source": [
    "The module streamlines conversion between PLINK and VCF formats (possibly more to add), specifically:\n",
    "\n",
    "1. Conversion between VCF and PLINK formats\n",
    "2. Split data (by specified input, by chromosomes, by genes)\n",
    "3. Merge data (by specified input, by chromosomes)"
   ]
  },
  {
   "cell_type": "markdown",
   "id": "second-collectible",
   "metadata": {
    "kernel": "SoS",
    "tags": []
   },
   "source": [
    "## Input"
   ]
  },
  {
   "cell_type": "markdown",
   "id": "dirty-hurricane",
   "metadata": {
    "kernel": "SoS",
    "tags": []
   },
   "source": [
    "Depending on the analysis task, input files are specified in one of the following formats:\n",
    "\n",
    "1. A single Whole genome data in VCF format, or in PLINK bim/bed/fam bundle; Or,\n",
    "2. A list of VCF or PLINK bed file\n",
    "3. A singular column file containing a list of VCF or PLINK bed file\n",
    "4. A two column file containing a list of per chromosome VCF or PLINK bed file where the first column is chrom and 2nd column is file name"
   ]
  },
  {
   "cell_type": "markdown",
   "id": "union-translator",
   "metadata": {
    "kernel": "SoS"
   },
   "source": [
    "## Output\n",
    "\n",
    "Genotype data after reformatting."
   ]
  },
  {
   "cell_type": "markdown",
   "id": "rolled-school",
   "metadata": {
    "kernel": "SoS"
   },
   "source": [
    "## Examples\n",
    "\n",
    "Minimal working example data-set as well as the singularity container `bioinfo.sif` can be downloaded from [Google Drive](https://drive.google.com/drive/u/0/folders/1ahIZGnmjcGwSd-BI91C9ayd_Ya8sB2ed).\n",
    "\n",
    "### PLINK file merger\n",
    "\n",
    "```\n",
    "sos run genotype_formatting.ipynb merge_plink \\\n",
    "    --genoFile data/genotype/chr1.bed data/genotype/chr6.bed \\\n",
    "    --cwd output/genotype \\\n",
    "    --name chr1_chr6 \\\n",
    "    --container container/bioinfo.sif\n",
    "```\n",
    "\n",
    "..."
   ]
  },
  {
   "cell_type": "markdown",
   "id": "sonic-office",
   "metadata": {
    "kernel": "SoS"
   },
   "source": [
    "## Command interface"
   ]
  },
  {
   "cell_type": "code",
   "execution_count": 1,
   "id": "difficult-repair",
   "metadata": {
    "kernel": "Bash"
   },
   "outputs": [
    {
     "name": "stdout",
     "output_type": "stream",
     "text": [
      "usage: sos run genotype_formatting.ipynb\n",
      "               [workflow_name | -t targets] [options] [workflow_options]\n",
      "  workflow_name:        Single or combined workflows defined in this script\n",
      "  targets:              One or more targets to generate\n",
      "  options:              Single-hyphen sos parameters (see \"sos run -h\" for details)\n",
      "  workflow_options:     Double-hyphen workflow-specific parameters\n",
      "\n",
      "Workflows:\n",
      "  plink_to_vcf\n",
      "  vcf_to_plink\n",
      "  plink_by_gene\n",
      "  plink_by_chrom\n",
      "  merge_plink\n",
      "  merge_vcf\n",
      "\n",
      "Global Workflow Options:\n",
      "  --cwd output (as path)\n",
      "                        Work directory & output directory\n",
      "  --container ''\n",
      "                        The filename name for containers\n",
      "  --job-size 1 (as int)\n",
      "                        For cluster jobs, number commands to run per job\n",
      "  --walltime 5h\n",
      "                        Wall clock time expected\n",
      "  --mem 3G\n",
      "                        Memory expected\n",
      "  --numThreads 20 (as int)\n",
      "                        Number of threads\n",
      "  --genoFile  paths\n",
      "\n",
      "                        the path to a bed file or VCF file, a vector of bed\n",
      "                        files or VCF files, or a text file listing the bed files\n",
      "                        or VCF files to process\n",
      "\n",
      "Sections\n",
      "  plink_to_vcf_1:\n",
      "  vcf_to_plink:\n",
      "  plink_by_gene_1:\n",
      "    Workflow Options:\n",
      "      --window 500000 (as int)\n",
      "                        cis window size\n",
      "      --region-list VAL (as path, required)\n",
      "                        Region definition\n",
      "  plink_by_chrom_1:\n",
      "    Workflow Options:\n",
      "      --chrom VAL VAL ... (as type, required)\n",
      "  plink_by_chrom_2, plink_by_gene_2:\n",
      "  plink_to_vcf_2:\n",
      "  merge_plink:\n",
      "    Workflow Options:\n",
      "      --name VAL (as str, required)\n",
      "                        File prefix for the analysis output\n",
      "  merge_vcf:\n",
      "    Workflow Options:\n",
      "      --name VAL (as str, required)\n",
      "                        File prefix for the analysis output\n"
     ]
    }
   ],
   "source": [
    "sos run genotype_formatting.ipynb -h"
   ]
  },
  {
   "cell_type": "code",
   "execution_count": null,
   "id": "promotional-messenger",
   "metadata": {
    "kernel": "SoS"
   },
   "outputs": [],
   "source": [
    "[global]\n",
    "# Work directory & output directory\n",
    "parameter: cwd = path(\"output\")\n",
    "# The filename name for containers\n",
    "parameter: container = ''\n",
    "# For cluster jobs, number commands to run per job\n",
    "parameter: job_size = 1\n",
    "# Wall clock time expected\n",
    "parameter: walltime = \"5h\"\n",
    "# Memory expected\n",
    "parameter: mem = \"3G\"\n",
    "# Number of threads\n",
    "parameter: numThreads = 20\n",
    "# the path to a bed file or VCF file, a vector of bed files or VCF files, or a text file listing the bed files or VCF files to process\n",
    "parameter: genoFile = paths\n",
    "# use this function to edit memory string for PLINK input\n",
    "from sos.utils import expand_size\n",
    "cwd = f\"{cwd:a}\"\n",
    "\n",
    "import os\n",
    "def get_genotype_file(geno_file_paths):\n",
    "    #\n",
    "    def valid_geno_file(x):\n",
    "        suffixes = path(x).suffixes\n",
    "        if suffixes[-1] == '.bed':\n",
    "            return True\n",
    "        if len(suffixes)>1 and ''.join(suffixes[-2:]) == \".vcf.gz\":\n",
    "            return True\n",
    "        return False\n",
    "    #\n",
    "    def complete_geno_path(x, geno_file):\n",
    "        if not valid_geno_file(x):\n",
    "            raise ValueError(f\"Genotype file {x} should be VCF (end with .vcf.gz) or PLINK bed file (end with .bed)\")\n",
    "        if not os.path.isfile(x):\n",
    "            # relative path\n",
    "            if not os.path.isfile(f'{geno_file:ad}/' + x):\n",
    "                raise ValueError(f\"Cannot find genotype file {x}\")\n",
    "            else:\n",
    "                x = f'{geno_file:ad}/' + x\n",
    "        return x\n",
    "    # \n",
    "    def format_chrom(chrom):\n",
    "        if chrom.startswith('chr'):\n",
    "            chrom = chrom[3:]\n",
    "        return chrom\n",
    "    # Inputs are either VCF or bed, or a vector of them \n",
    "    if len(geno_file_paths) > 1:\n",
    "        if all([valid_geno_file(x) for x in geno_file_paths]):\n",
    "            return paths(geno_file_paths)\n",
    "        else: \n",
    "            raise ValueError(f\"Invalid input {geno_file_paths}\")\n",
    "    # Input is one genotype file or text list of genotype files\n",
    "    geno_file = geno_file_paths[0]\n",
    "    if valid_geno_file(geno_file):\n",
    "        return paths(geno_file)\n",
    "    else: \n",
    "        units = [x.strip().split() for x in open(geno_file).readlines() if x.strip() and not x.strip().startswith('#')]\n",
    "        if all([len(x) == 1 for x in units]):\n",
    "            return paths([complete_geno_path(x[0], geno_file) for x in units])\n",
    "        elif all([len(x) == 2 for x in units]):\n",
    "            genos = dict([(format_chrom(x[0]), path(complete_geno_path(x[1], geno_file))) for x in units])\n",
    "        else:\n",
    "            raise ValueError(f\"{geno_file} should contain one column of file names, or two columns of chrom number and corresponding file name\")\n",
    "        return genos\n",
    "                        \n",
    "genoFile = get_genotype_file(genoFile)"
   ]
  },
  {
   "cell_type": "markdown",
   "id": "celtic-beast",
   "metadata": {
    "kernel": "SoS",
    "tags": []
   },
   "source": [
    "## PLINK to VCF"
   ]
  },
  {
   "cell_type": "code",
   "execution_count": 1,
   "id": "considered-lincoln",
   "metadata": {
    "kernel": "SoS"
   },
   "outputs": [],
   "source": [
    "[plink_to_vcf_1]\n",
    "if isinstance(genoFile, dict):\n",
    "    genoFile = genoFile.values()\n",
    "\n",
    "input: genoFile, group_by = 1\n",
    "output: f'{cwd}/{_input:bn}.vcf.gz'\n",
    "task: trunk_workers = 1, trunk_size = job_size, walltime = walltime,  mem = mem, cores = numThreads, tags = f'{step_name}_{_output[0]:bn}'\n",
    "bash: expand= \"${ }\", stderr = f'{_output}.stderr', stdout = f'{_output}.stdout', container = container, volumes = [f'{_input:ad}:{_input:ad}']\n",
    "    plink --bfile ${_input:n} \\\n",
    "        --recode vcf-iid  \\\n",
    "        --out ${_output:nn} \\\n",
    "        --threads ${numThreads} \\\n",
    "        --memory ${int(expand_size(mem) * 0.9)/1e06} --output-chr chrMT --keep-allele-order\n",
    "        bgzip -l 9 ${_output:n}\n",
    "        tabix -f -p vcf ${_output}\n",
    "\n",
    "bash: expand= \"$[ ]\", stderr = f'{_output:n}.stderr', stdout = f'{_output}.stdout', container = container\n",
    "        stdout=$[_output].stdout\n",
    "        for i in $[_output] ; do \n",
    "        echo \"output_info: $i \" >> $stdout;\n",
    "        echo \"output_size:\" `ls -lh $i | cut -f 5  -d  \" \"`   >> $stdout;\n",
    "        echo \"output_rows:\" `zcat $i | wc -l  | cut -f 1 -d \" \"`   >> $stdout;\n",
    "        echo \"output_column:\" `zcat $i | grep -v \"##\"   | head -1 | wc -w `   >> $stdout;\n",
    "        echo \"output_headerow:\" `zcat $i | grep \"##\" | wc -l `   >> $stdout;\n",
    "        echo \"output_preview:\"   >> $stdout;\n",
    "        zcat $i  | grep -v \"##\" | head  | cut -f 1,2,3,4,5,6,7,8,9,10,11   >> $stdout ; done\n"
   ]
  },
  {
   "cell_type": "markdown",
   "id": "robust-somerset",
   "metadata": {
    "kernel": "SoS"
   },
   "source": [
    "## VCF to PLINK"
   ]
  },
  {
   "cell_type": "code",
   "execution_count": null,
   "id": "activated-shape",
   "metadata": {
    "kernel": "SoS"
   },
   "outputs": [],
   "source": [
    "[vcf_to_plink]\n",
    "if isinstance(genoFile, dict):\n",
    "    genoFile = genoFile.values()\n",
    "\n",
    "input: genoFile, group_by = 1\n",
    "output: f'{cwd}/{_input:nn}.bed'\n",
    "task: trunk_workers = 1, trunk_size = job_size, walltime = walltime, mem = mem, cores = numThreads, tags = f'{step_name}_{_output:bn}'\n",
    "bash: container = container, expand= \"${ }\", stderr = f'{_output:n}.stderr', stdout = f'{_output:n}.stdout'\n",
    "    plink --vcf ${_input} \\\n",
    "        --vcf-half-call m \\\n",
    "        --vcf-require-gt \\\n",
    "        --allow-extra-chr \\\n",
    "        --make-bed --out ${_output:n} \\\n",
    "        --threads ${numThreads} \\\n",
    "        --memory ${int(expand_size(mem) * 0.9)/1e06} --keep-allele-order\n",
    "bash: expand= \"$[ ]\", stderr = f'{_output:n}.stderr', stdout = f'{_output:n}.stdout', container = container\n",
    "        stdout=$[_output:n].stdout\n",
    "        for i in $[_output] ; do \n",
    "        echo \"output_info: $i \" >> $stdout;\n",
    "        echo \"output_size:\" `ls -lh $i | cut -f 5  -d  \" \"`   >> $stdout;\n",
    "        done"
   ]
  },
  {
   "cell_type": "markdown",
   "id": "theoretical-reflection",
   "metadata": {
    "kernel": "SoS",
    "tags": []
   },
   "source": [
    "## Split PLINK by genes"
   ]
  },
  {
   "cell_type": "code",
   "execution_count": null,
   "id": "urban-friend",
   "metadata": {
    "kernel": "SoS"
   },
   "outputs": [],
   "source": [
    "[plink_by_gene_1]\n",
    "# cis window size\n",
    "parameter: window = 1000000\n",
    "# Region definition\n",
    "parameter: region_list = path\n",
    "regions = [x.strip().split() for x in open(region_list).readlines() if x.strip() and not x.strip().startswith('#')]\n",
    "input: genoFile, for_each = 'regions'\n",
    "output: f'{cwd}/{region_list:bn}_plink_files/{_input:bn}.{_regions[3]}.bed'\n",
    "task: trunk_workers = 1, trunk_size = job_size, walltime = walltime, mem = mem, cores = numThreads, tags = f'{step_name}_{_output:bn}'\n",
    "bash: expand= \"${ }\", stderr = f'{_output}.stderr', stdout = f'{_output}.stdout', container = container, volumes = [f'{region_list:ad}:{region_list:ad}']\n",
    "    plink2 --bfile ${_input:an} \\\n",
    "        --make-bed \\\n",
    "        --out ${_output[0]:n} \\\n",
    "        --chr ${_regions[0]} \\\n",
    "        --from-bp ${f'1' if (int(_regions[1]) - window) < 0 else f'{(int(_regions[1]) - window)}'} \\\n",
    "        --to-bp ${int(_regions[2]) + window} \\\n",
    "        --allow-no-sex --output-chr chrMT --keep-allele-order || touch ${_output} \n",
    "\n",
    "bash: expand= \"$[ ]\", stderr = f'{_output:n}.stderr', stdout = f'{_output:n}.stdout', container = container\n",
    "        stdout=$[_output].stdout\n",
    "        for i in $[_output] ; do \n",
    "        echo \"output_info: $i \" >> $stdout;\n",
    "        echo \"output_size:\" `ls -lh $i | cut -f 5  -d  \" \"`   >> $stdout;\n",
    "        done"
   ]
  },
  {
   "cell_type": "code",
   "execution_count": null,
   "id": "nutritional-outreach",
   "metadata": {
    "kernel": "SoS"
   },
   "outputs": [],
   "source": [
    "[plink_by_gene_2]\n",
    "input: group_by = \"all\"\n",
    "output: f'{_input[0]:nn}.plink_files_list.txt'\n",
    "#task: trunk_workers = 1, trunk_size = job_size, walltime = walltime, mem = mem, cores = numThreads, tags = f'{step_name}_{_output:bn}'\n",
    "python: expand= \"${ }\", stderr = f'{_output}.stderr', stdout = f'{_output}.stdout', container = container\n",
    "    import pandas as pd \n",
    "    data_tempt = pd.DataFrame({\n",
    "    \"#id\" : [f'{x.split(\".\")[-2].replace(\"chr\",\"\")}' for x in  [${_input:r,}]],\n",
    "    \"dir\" : [${_input:r,}]\n",
    "    })\n",
    "    data_tempt.to_csv(\"${_output}\",index = False,sep = \"\\t\" )\n",
    "\n",
    "bash: expand= \"$[ ]\", stderr = f'{_output}.stderr', stdout = f'{_output}.stdout', container = container\n",
    "        stdout=$[_output].stdout\n",
    "        for i in $[_output] ; do \n",
    "        echo \"output_info: $i \" >> $stdout;\n",
    "        echo \"output_size:\" `ls -lh $i | cut -f 5  -d  \" \"`   >> $stdout;\n",
    "        echo \"output_rows:\" `zcat $i | wc -l  | cut -f 1 -d \" \"`   >> $stdout;\n",
    "        echo \"output_column:\" `zcat $i | head -1 | wc -w `   >> $stdout;\n",
    "        echo \"output_preview:\"   >> $stdout;\n",
    "        cat $i  | grep -v \"##\" | head  | cut -f 1,2,3,4,5,6   >> $stdout ; done"
   ]
  },
  {
   "cell_type": "markdown",
   "id": "introductory-identification",
   "metadata": {
    "kernel": "SoS"
   },
   "source": [
    "## Compute LD matrices given input region\n",
    "\n",
    "### PLINK based implementation\n",
    "\n",
    "**FIXME: I suggest including all contents for LD matrix storage type benchmarking into this repo, so we justify why we would like to save the data as square 0, float 16 and using npz format**. Perhaps we should start a folder called \"code/auxillary\" to keep notebooks such as these? You can then remove what you have in the `brain-xqtl-analysis` repository after you migrate all the relevant contents here."
   ]
  },
  {
   "cell_type": "code",
   "execution_count": 1,
   "id": "vietnamese-recommendation",
   "metadata": {
    "kernel": "SoS"
   },
   "outputs": [],
   "source": [
    "[ld_by_region_plink_1]\n",
    "# Region definition\n",
    "parameter: region_list = path\n",
    "parameter: float_type = 16\n",
    "regions = [x.strip().split() for x in open(region_list).readlines() if x.strip() and not x.strip().startswith('#')]\n",
    "input: genoFile, for_each = 'regions'\n",
    "output: f'{cwd}/{region_list:bn}_LD/{_input:bn}.{_regions[0]}_{_regions[1]}_{_regions[2]}.float{float_type}.npz'\n",
    "task: trunk_workers = 1, trunk_size = job_size, walltime = walltime, mem = mem, cores = numThreads, tags = f'{step_name}_{_output:bn}'\n",
    "bash: expand = \"${ }\", stderr = f'{_output}.stderr', stdout = f'{_output}.stdout', container = container, volumes = [f'{region_list:ad}:{region_list:ad}']\n",
    "    plink --bfile ${_input:an} \\\n",
    "        --out ${_output:nn} \\\n",
    "        --chr ${_regions[0]} \\\n",
    "        --from-bp ${_regions[1]} \\\n",
    "        --to-bp ${_regions[2]}  --r square0 \\\n",
    "        --make-just-bim \\\n",
    "        --threads ${numThreads} --keep-allele-order\n",
    "\n",
    "python: expand= \"${ }\", stderr = f'{_output}.stderr', stdout = f'{_output}.stdout', container = container\n",
    "    import pandas as pd\n",
    "    import numpy as np\n",
    "    np_ld = np.loadtxt(\"${_output:nn}.ld\", delimiter = \"\\t\", dtype = \"float${float_type}\")\n",
    "    bim = pd.read_csv(\"${_output:nn}.bim\", \"\\t\", header = None)[1].to_numpy()\n",
    "    np.savez_compressed(\"${_output}\", np_ld, bim, allow_pickel = True)\n",
    "\n",
    "bash: expand= \"$[ ]\", stderr = f'{_output}.stderr', stdout = f'{_output}.stdout', container = container\n",
    "        stdout=$[_output].stdout\n",
    "        echo \"The npz file is a numpy compressed version of the .ld file described below\" >> $stdout\n",
    "        for i in $[_output:nn] ; do \n",
    "        echo \"output_info: $i.ld \" >> $stdout;\n",
    "        echo \"output_size:\" `ls -lh $i.ld | cut -f 5  -d  \" \"`   >> $stdout;\n",
    "        echo \"output_column:\" `head -1 $i | wc -w `   >> $stdout;\n",
    "        echo \"output_row:\" `wc -l $i `   >> $stdout;\n",
    "        done"
   ]
  },
  {
   "cell_type": "code",
   "execution_count": null,
   "id": "eastern-luther",
   "metadata": {
    "kernel": "SoS"
   },
   "outputs": [],
   "source": [
    "[ld_by_region_*_2]\n",
    "input: group_by = \"all\"\n",
    "parameter: region_list = path\n",
    "output: f'{cwd}/{region_list:bn}_LD/{genoFile:bn}.ld.list'\n",
    "#task: trunk_workers = 1, trunk_size = job_size, walltime = walltime, mem = mem, cores = numThreads, tags = f'{step_name}_{_output:bn}'\n",
    "python: expand= \"${ }\", stderr = f'{_output}.stderr', stdout = f'{_output}.stdout', container = container\n",
    "    import pandas as pd \n",
    "    data_tempt = pd.DataFrame({\n",
    "    \"#id\" : [f'{x.split(\".\")[-3]}' for x in  [${_input:r,}]],\n",
    "    \"dir\" : [${_input:r,}]\n",
    "    })\n",
    "    data_tempt.to_csv(\"${_output}\", index = False, sep = \"\\t\") \n",
    "\n",
    "bash: expand= \"$[ ]\", stderr = f'{_output}.stderr', stdout = f'{_output}.stdout', container = container\n",
    "        stdout=$[_output].stdout\n",
    "        for i in $[_output] ; do \n",
    "        echo \"output_info: $i \" >> $stdout;\n",
    "        echo \"output_size:\" `ls -lh $i | cut -f 5  -d  \" \"`   >> $stdout;\n",
    "        echo \"output_rows:\" `zcat $i | wc -l  | cut -f 1 -d \" \"`   >> $stdout;\n",
    "        echo \"output_column:\" `zcat $i | head -1 | wc -w `   >> $stdout;\n",
    "        echo \"output_preview:\"   >> $stdout;\n",
    "        cat $i  | grep -v \"##\" | head  | cut -f 1,2,3,4,5,6   >> $stdout ; done"
   ]
  },
  {
   "cell_type": "markdown",
   "id": "static-mortality",
   "metadata": {
    "kernel": "SoS"
   },
   "source": [
    "### ldstore2 based implementation\n",
    "\n",
    "This is good for larger sample sizes.\n",
    "\n",
    "**FIXME: we need to build ldstore2 into a container image**. According to Diana it should be \n",
    "\n",
    "```\n",
    "pip3 install https://files.pythonhosted.org/packages/a8/fd/f98ab7dea176f42cb61b80450b795ef19b329e8eb715b87b0d13c2a0854d/ldstore-0.1.9.tar.gz \n",
    "```\n",
    "\n",
    "**FIXME: Diana, what's the input for this workflow?**"
   ]
  },
  {
   "cell_type": "markdown",
   "id": "dependent-shooting",
   "metadata": {
    "kernel": "SoS"
   },
   "source": [
    "#### Create `master` file for `ldstore2`\n",
    "\n",
    "The master file is a semicolon-separated text file and contains no space. It contains the following mandatory column names and one dataset per line:\n",
    "\n",
    "**FIXME: Diana, this documentation is not clearly written. I cannot understand it. What are the mandatory column names? What does it mean by one data-set per line?**\n",
    "\n",
    "- For the Z file, the format should be `rsid:chrom:pos:a1:a2`. Formatting for chromosome should be `01,02,03` etc\n",
    "- List of samples\n",
    "\n",
    "**The LDstore draft is currently availale [here](https://github.com/statgenetics/UKBB_GWAS_dev/blob/master/workflow/111722_LDstore.ipynb) with the code to prepare for the genotypic input [here](https://github.com/statgenetics/UKBB_GWAS_dev/blob/master/workflow/113022_bgenix_ldblocks.ipynb). A minimal working example can be found [here]**"
   ]
  },
  {
   "cell_type": "markdown",
   "id": "unlikely-match",
   "metadata": {
    "kernel": "SoS"
   },
   "source": [
    "## Split PLINK by Chromosome"
   ]
  },
  {
   "cell_type": "code",
   "execution_count": null,
   "id": "changing-columbia",
   "metadata": {
    "kernel": "SoS"
   },
   "outputs": [],
   "source": [
    "[plink_by_chrom_1]\n",
    "stop_if(len(paths(genoFile))>1, msg = \"This workflow expects one input genotype file.\")\n",
    "parameter: chrom = list\n",
    "input: genoFile, for_each = \"chrom\"\n",
    "output: f'{cwd}/{_input:bn}.{_chrom}.bed'\n",
    "# look up for genotype file\n",
    "task: trunk_workers = 1, trunk_size = job_size, walltime = walltime, mem = mem, cores = numThreads, tags = f'{step_name}_{_output:bn}'\n",
    "bash: expand= \"$[ ]\", stderr = f'{_output}.stderr', stdout = f'{_output}.stdout', container = container, volumes = [f'{genoFile:ad}:{genoFile:ad}']\n",
    "    ##### Get the locus genotypes for $[_chrom]\n",
    "    plink --bfile $[_input:an] \\\n",
    "    --make-bed \\\n",
    "    --out $[_output[0]:n] \\\n",
    "    --chr $[_chrom] \\\n",
    "    --allow-no-sex  --keep-allele-order || true "
   ]
  },
  {
   "cell_type": "code",
   "execution_count": null,
   "id": "european-tulsa",
   "metadata": {
    "kernel": "SoS"
   },
   "outputs": [],
   "source": [
    "[plink_by_chrom_2]\n",
    "input: group_by = \"all\"\n",
    "output: f'{_input[0]:nn}.plink_files_list.txt'\n",
    "#task: trunk_workers = 1, trunk_size = job_size, walltime = walltime, mem = mem, cores = numThreads, tags = f'{step_name}_{_output:bn}'\n",
    "python: expand= \"${ }\", stderr = f'{_output}.stderr', stdout = f'{_output}.stdout', container = container\n",
    "    import pandas as pd \n",
    "    data_tempt = pd.DataFrame({\n",
    "    \"#id\" : [x.split(\".\")[-2].replace(\"chr\",\"\") for x in  [${_input:r,}]],\n",
    "    \"dir\" : [${_input:r,}]\n",
    "    })\n",
    "    data_tempt.to_csv(\"${_output}\",index = False,sep = \"\\t\" )"
   ]
  },
  {
   "cell_type": "code",
   "execution_count": null,
   "id": "wired-exchange",
   "metadata": {
    "kernel": "SoS"
   },
   "outputs": [],
   "source": [
    "[plink_to_vcf_2]\n",
    "input: group_by = \"all\"\n",
    "output: f'{_input[0]:nnn}.vcf_files_list.txt'\n",
    "#task: trunk_workers = 1, trunk_size = job_size, walltime = walltime, mem = mem, cores = numThreads, tags = f'{step_name}_{_output:bn}'\n",
    "python: expand= \"${ }\", stderr = f'{_output}.stderr', stdout = f'{_output}.stdout', container = container\n",
    "    import pandas as pd \n",
    "    data_tempt = pd.DataFrame({\n",
    "    \"#id\" : [x.split(\".\")[-3] for x in  [${_input:r,}]],\n",
    "    \"dir\" : [${_input:r,}]\n",
    "    })\n",
    "    data_tempt.to_csv(\"${_output}\",index = False,sep = \"\\t\" )\n",
    "\n",
    "bash: expand= \"$[ ]\", stderr = f'{_output}.stderr', stdout = f'{_output}.stdout', container = container\n",
    "        stdout=$[_output].stdout\n",
    "        for i in $[_output] ; do \n",
    "        echo \"output_info: $i \" >> $stdout;\n",
    "        echo \"output_size:\" `ls -lh $i | cut -f 5  -d  \" \"`   >> $stdout;\n",
    "        echo \"output_rows:\" `zcat $i | wc -l  | cut -f 1 -d \" \"`   >> $stdout;\n",
    "        echo \"output_column:\" `zcat $i | head -1 | wc -w `   >> $stdout;\n",
    "        echo \"output_preview:\"   >> $stdout;\n",
    "        cat $i  | grep -v \"##\" | head  | cut -f 1,2,3,4,5,6   >> $stdout ; done"
   ]
  },
  {
   "cell_type": "markdown",
   "id": "injured-owner",
   "metadata": {
    "kernel": "SoS"
   },
   "source": [
    "## Split VCF by Chromosome\n",
    "\n",
    "**FIXME: add this as needed**"
   ]
  },
  {
   "cell_type": "markdown",
   "id": "alleged-tours",
   "metadata": {
    "kernel": "SoS"
   },
   "source": [
    "## Merge PLINK files"
   ]
  },
  {
   "cell_type": "code",
   "execution_count": null,
   "id": "positive-casting",
   "metadata": {
    "kernel": "SoS"
   },
   "outputs": [],
   "source": [
    "[merge_plink]\n",
    "skip_if(len(genoFile) == 1)\n",
    "# File prefix for the analysis output\n",
    "parameter: name = str\n",
    "# The path to the file that contains the list of samples to keep (format FID, IID)\n",
    "parameter: keep_samples = path('.')\n",
    "input: genoFile, group_by = 'all'\n",
    "output: f\"{cwd}/{name}.merge_list\", f\"{cwd}/{name}.bed\"\n",
    "task: trunk_workers = 1, trunk_size = job_size, walltime = walltime, mem = mem, cores = numThreads, tags = f'{step_name}_{_output[1]:bn}'\n",
    "\n",
    "with open(_output[0], 'w') as f:\n",
    "    f.write('\\n'.join([str(f'{x:n}') for x in _input[1:]]))\n",
    "\n",
    "bash: container=container, expand= \"${ }\", stderr = f'{_output[1]:n}.stderr', stdout = f'{_output[1]:n}.stdout'\n",
    "    plink \\\n",
    "    --bfile ${_input[0]:n} \\\n",
    "    --merge-list ${_output[0]} \\\n",
    "    --make-bed \\\n",
    "    --out ${_output[1]:n} \\\n",
    "    --threads ${numThreads} \\\n",
    "    --memory ${int(expand_size(mem) * 0.9)/1e06} --keep-allele-order ${('--keep %s' % keep_samples) if keep_samples.is_file() else \"\"} \n",
    "\n",
    "bash: expand= \"$[ ]\", stderr = f'{_output[1]:n}.stderr', stdout = f'{_output[1]:n}.stdout', container = container\n",
    "        stdout=$[_output[1]].stdout\n",
    "        for i in $[_output[0]] ; do \n",
    "        echo \"output_info: $i \" >> $stdout;\n",
    "        echo \"output_size:\" `ls -lh $i | cut -f 5  -d  \" \"`   >> $stdout;\n",
    "        echo \"output_rows:\" `zcat $i | wc -l  | cut -f 1 -d \" \"`   >> $stdout;\n",
    "        echo \"output_column:\" `zcat $i | head -1 | wc -w `   >> $stdout;\n",
    "        echo \"output_preview:\"   >> $stdout;\n",
    "        cat $i  | grep -v \"##\" | head  | cut -f 1,2,3,4,5,6   >> $stdout ; done"
   ]
  },
  {
   "cell_type": "markdown",
   "id": "rolled-gibraltar",
   "metadata": {
    "kernel": "SoS"
   },
   "source": [
    "## Merge VCF files"
   ]
  },
  {
   "cell_type": "code",
   "execution_count": null,
   "id": "delayed-toronto",
   "metadata": {
    "kernel": "SoS"
   },
   "outputs": [],
   "source": [
    "[merge_vcf]\n",
    "skip_if(len(genoFile) == 1)\n",
    "# File prefix for the analysis output\n",
    "parameter: name = str\n",
    "input: genoFile, group_by = 'all'\n",
    "output:  f\"{cwd}/{name}.vcf.gz\"\n",
    "task: trunk_workers = 1, trunk_size = job_size, walltime = walltime, mem = mem, cores = numThreads, tags = f'{step_name}_{_output:bn}'\n",
    "bash: container=container, expand= \"${ }\", stderr = f'{_output:n}.stderr', stdout = f'{_output:n}.stdout'\n",
    "    bcftools concat -Oz ${_input} > ${_output}\n",
    "    tabix -p vcf ${_output}\n",
    "bash: expand= \"$[ ]\", stderr = f'{_output:n}.stderr', stdout = f'{_output}.stdout', container = container\n",
    "        stdout=$[_output:n].stdout\n",
    "        for i in $[_output] ; do \n",
    "        echo \"output_info: $i \" >> $stdout;\n",
    "        echo \"output_size:\" `ls -lh $i | cut -f 5  -d  \" \"`   >> $stdout;\n",
    "        echo \"output_rows:\" `zcat $i | wc -l  | cut -f 1 -d \" \"`   >> $stdout;\n",
    "        echo \"output_column:\" `zcat $i | grep -v \"##\"   | head -1 | wc -w `   >> $stdout;\n",
    "        echo \"output_headerow:\" `zcat $i | grep \"##\" | wc -l `   >> $stdout;\n",
    "        echo \"output_preview:\"   >> $stdout;\n",
    "        zcat $i  | grep -v \"##\" | head  | cut -f 1,2,3,4,5,6,7,8,9,10,11   >> $stdout ; done"
   ]
  }
 ],
 "metadata": {
  "kernelspec": {
   "display_name": "SoS",
   "language": "sos",
   "name": "sos"
  },
  "language_info": {
   "codemirror_mode": "sos",
   "file_extension": ".sos",
   "mimetype": "text/x-sos",
   "name": "sos",
   "nbconvert_exporter": "sos_notebook.converter.SoS_Exporter",
   "pygments_lexer": "sos"
  },
  "sos": {
   "kernels": [
    [
     "Bash",
     "bash",
     "Bash",
     "#E6EEFF",
     ""
    ],
    [
     "SoS",
     "sos",
     "",
     "",
     "sos"
    ]
   ],
   "version": "0.24.1"
  }
 },
 "nbformat": 4,
 "nbformat_minor": 5
}
