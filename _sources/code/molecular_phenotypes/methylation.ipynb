{
 "cells": [
  {
   "cell_type": "markdown",
   "id": "monthly-offer",
   "metadata": {
    "kernel": "SoS",
    "tags": []
   },
   "source": [
    "# Methylation"
   ]
  },
  {
   "cell_type": "markdown",
   "id": "supreme-fighter",
   "metadata": {
    "kernel": "SoS"
   },
   "source": [
    "## Quantification of methylation data\n",
    "We call the methylation data from a collection of IDAT file. The `--sample_sheet_header_rows` parameter govern the number of header rows in the sample sheet accompaning the IDAT file. By default, this number is 7 \n",
    "- Resource Usage\n",
    "    - time elapsed: 1550.12s\n",
    "    - max vms_memory: 14.62GB"
   ]
  },
  {
   "cell_type": "code",
   "execution_count": null,
   "id": "7686db50-6e00-406b-923f-6e7a3fe1c7ae",
   "metadata": {},
   "outputs": [],
   "source": [
    "sos run pipeline/methylation_calling.ipynb sesame \\\n",
    "    --sample-sheet input_data/Methylation/xqtl_protocol_data_arrayMethylation_covariates.tsv  \\\n",
    "    --container containers/methylation.sif --sample_sheet_header_rows 0 --cwd output_rerun/methylation/\n",
    "    \n",
    "sos run pipeline/methylation_calling.ipynb sesame \\\n",
    "    --sample-sheet input_data/Methylation/xqtl_protocol_data_arrayMethylation_covariates.tsv  \\\n",
    "    --container containers/methylation.sif --sample_sheet_header_rows 0 --cwd output_rerun/methylation/ -q csg -c csg2.yml -J 1 &"
   ]
  },
  {
   "cell_type": "markdown",
   "id": "2268d4ba-0d9d-4344-8bb8-43faf8cf31c0",
   "metadata": {},
   "source": [
    "## Soft Impute to remove NA\n",
    "Many of the methylation matrix are filled with NA, softImputation are applied to the result.\n",
    "- Resource Usage\n",
    "    - time elapsed: 143.58s\n",
    "    - max vms_memory: 8.07GB"
   ]
  },
  {
   "cell_type": "code",
   "execution_count": null,
   "id": "9314734b-ce46-453a-9e36-413a19400768",
   "metadata": {},
   "outputs": [],
   "source": [
    "sos run pipeline/phenotype_formatting.ipynb bed_filter_na \\\n",
    "        --phenoFile output/methylation/xqtl_protocol_data_arrayMethylation_covariates.sesame.M.bed.gz \\\n",
    "        --cwd ./output/methylation/"
   ]
  }
 ],
 "metadata": {
  "kernelspec": {
   "display_name": "Bash",
   "language": "bash",
   "name": "bash"
  },
  "language_info": {
   "codemirror_mode": "shell",
   "file_extension": ".sh",
   "mimetype": "text/x-sh",
   "name": "bash"
  },
  "sos": {
   "kernels": [
    [
     "Bash",
     "bash",
     "Bash",
     "#E6EEFF",
     "shell"
    ],
    [
     "SoS",
     "sos",
     "",
     "",
     "sos"
    ]
   ],
   "version": "0.22.6"
  }
 },
 "nbformat": 4,
 "nbformat_minor": 5
}
